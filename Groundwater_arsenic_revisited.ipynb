{
 "cells": [
  {
   "cell_type": "markdown",
   "metadata": {},
   "source": [
    "# Predictors of arsenic content in goundwater\n",
    "The State of Durango, in northern Mexico, is one of those affected with significant natural presence of arsenic in groundwater (for a national analysis, see [this previous post](https://danielmartinalarcon.github.io/2018-12-14-water-pollution-in-mexico/)).  One of the problems with studying arsenic is that it's expensive to measure it accurately.  But what if we could reliably predict the arsenic content of a water sample, based on other characteristics of the water that are easier to determine?\n",
    "\n",
    "I used a dataset of water samples from Durango, for which the levels of several common ions had been quantified.  I trained several regression models on these data and found that potassium (K) is by far the factor that is most closely associated with arsenic presence in this dataset.  "
   ]
  },
  {
   "cell_type": "markdown",
   "metadata": {},
   "source": [
    "## Data cleanup"
   ]
  },
  {
   "cell_type": "code",
   "execution_count": 1,
   "metadata": {},
   "outputs": [],
   "source": [
    "import pandas as pd\n",
    "import numpy as np\n",
    "import matplotlib.pyplot as plt\n",
    "import seaborn as sns\n",
    "from sklearn.metrics import mean_squared_error\n",
    "from sklearn.metrics import r2_score\n",
    "from sklearn.metrics import accuracy_score\n",
    "from sklearn.preprocessing import RobustScaler\n",
    "from sklearn.pipeline import make_pipeline\n",
    "from sklearn.model_selection import cross_val_score\n",
    "from sklearn.model_selection import train_test_split\n",
    "from sklearn.model_selection import GridSearchCV\n",
    "from sklearn.linear_model import LinearRegression\n",
    "from sklearn.linear_model import Ridge\n",
    "import category_encoders as ce\n",
    "from sklearn.decomposition import PCA\n",
    "from sklearn.feature_selection import SelectKBest, f_regression\n",
    "\n",
    "pd.set_option('display.max_columns', None)  # Unlimited columns"
   ]
  },
  {
   "cell_type": "code",
   "execution_count": 2,
   "metadata": {},
   "outputs": [],
   "source": [
    "df = pd.read_csv('water_samples.csv', index_col=0)"
   ]
  },
  {
   "cell_type": "code",
   "execution_count": 3,
   "metadata": {},
   "outputs": [
    {
     "name": "stdout",
     "output_type": "stream",
     "text": [
      "(146, 22)\n"
     ]
    },
    {
     "data": {
      "text/html": [
       "<div>\n",
       "<style scoped>\n",
       "    .dataframe tbody tr th:only-of-type {\n",
       "        vertical-align: middle;\n",
       "    }\n",
       "\n",
       "    .dataframe tbody tr th {\n",
       "        vertical-align: top;\n",
       "    }\n",
       "\n",
       "    .dataframe thead th {\n",
       "        text-align: right;\n",
       "    }\n",
       "</style>\n",
       "<table border=\"1\" class=\"dataframe\">\n",
       "  <thead>\n",
       "    <tr style=\"text-align: right;\">\n",
       "      <th></th>\n",
       "      <th>Municipio</th>\n",
       "      <th>Localidad</th>\n",
       "      <th>Coordenadas</th>\n",
       "      <th>Unnamed: 3</th>\n",
       "      <th>Muestra</th>\n",
       "      <th>FECHA DE MUESTREO</th>\n",
       "      <th>pH</th>\n",
       "      <th>Conductividad (μs/cm)</th>\n",
       "      <th>As (μg/L)</th>\n",
       "      <th>Flúor (mg/L)</th>\n",
       "      <th>Na+ (mg/L)</th>\n",
       "      <th>K+    (mg/L)</th>\n",
       "      <th>Fe+ (mg/L)</th>\n",
       "      <th>Ca+ (mg/L)</th>\n",
       "      <th>Mg+ (mg/L)</th>\n",
       "      <th>NO3- (mg/L)</th>\n",
       "      <th>Cl- (mg/L)</th>\n",
       "      <th>CO3-2 (mg/L)</th>\n",
       "      <th>HCO3- (mg/L)</th>\n",
       "      <th>Alcalinidad total                (mg CaCO3/L)</th>\n",
       "      <th>SO4</th>\n",
       "      <th>Tipo de Agua</th>\n",
       "    </tr>\n",
       "  </thead>\n",
       "  <tbody>\n",
       "    <tr>\n",
       "      <th>0</th>\n",
       "      <td>NaN</td>\n",
       "      <td>NaN</td>\n",
       "      <td>Longitud</td>\n",
       "      <td>Latitud</td>\n",
       "      <td>NaN</td>\n",
       "      <td>NaN</td>\n",
       "      <td>NaN</td>\n",
       "      <td>NaN</td>\n",
       "      <td>NaN</td>\n",
       "      <td>NaN</td>\n",
       "      <td>NaN</td>\n",
       "      <td>NaN</td>\n",
       "      <td>NaN</td>\n",
       "      <td>NaN</td>\n",
       "      <td>NaN</td>\n",
       "      <td>NaN</td>\n",
       "      <td>NaN</td>\n",
       "      <td>NaN</td>\n",
       "      <td>NaN</td>\n",
       "      <td>NaN</td>\n",
       "      <td>NaN</td>\n",
       "      <td>NaN</td>\n",
       "    </tr>\n",
       "    <tr>\n",
       "      <th>1</th>\n",
       "      <td>Durango</td>\n",
       "      <td>El Nayar</td>\n",
       "      <td>-104.69545</td>\n",
       "      <td>23.96292</td>\n",
       "      <td>60.0</td>\n",
       "      <td>2017-08-08</td>\n",
       "      <td>8.140</td>\n",
       "      <td>337.0</td>\n",
       "      <td>61.5</td>\n",
       "      <td>3.15</td>\n",
       "      <td>40.9220</td>\n",
       "      <td>1.4075</td>\n",
       "      <td>0.007</td>\n",
       "      <td>15.0015</td>\n",
       "      <td>0.2675</td>\n",
       "      <td>3.25</td>\n",
       "      <td>4.140</td>\n",
       "      <td>0.0</td>\n",
       "      <td>97.0</td>\n",
       "      <td>97.0</td>\n",
       "      <td>70.615</td>\n",
       "      <td>BICARBONATADA SODICA</td>\n",
       "    </tr>\n",
       "    <tr>\n",
       "      <th>2</th>\n",
       "      <td>Durango</td>\n",
       "      <td>Sebastián Lerdo de Tejada</td>\n",
       "      <td>-104.64026</td>\n",
       "      <td>23.95718</td>\n",
       "      <td>61.0</td>\n",
       "      <td>2017-08-08</td>\n",
       "      <td>8.110</td>\n",
       "      <td>406.0</td>\n",
       "      <td>38.5</td>\n",
       "      <td>2.60</td>\n",
       "      <td>45.8850</td>\n",
       "      <td>0.6100</td>\n",
       "      <td>NaN</td>\n",
       "      <td>20.1530</td>\n",
       "      <td>0.0645</td>\n",
       "      <td>2.10</td>\n",
       "      <td>2.040</td>\n",
       "      <td>0.0</td>\n",
       "      <td>122.0</td>\n",
       "      <td>122.0</td>\n",
       "      <td>79.445</td>\n",
       "      <td>BICARBONATADA SODICA</td>\n",
       "    </tr>\n",
       "    <tr>\n",
       "      <th>3</th>\n",
       "      <td>Durango</td>\n",
       "      <td>Felipe Ángeles</td>\n",
       "      <td>-104.55661</td>\n",
       "      <td>23.93505</td>\n",
       "      <td>62.0</td>\n",
       "      <td>2017-08-08</td>\n",
       "      <td>8.375</td>\n",
       "      <td>384.1</td>\n",
       "      <td>26.5</td>\n",
       "      <td>1.40</td>\n",
       "      <td>38.5360</td>\n",
       "      <td>6.3665</td>\n",
       "      <td>NaN</td>\n",
       "      <td>21.8090</td>\n",
       "      <td>1.1890</td>\n",
       "      <td>1.35</td>\n",
       "      <td>2.325</td>\n",
       "      <td>0.0</td>\n",
       "      <td>140.0</td>\n",
       "      <td>140.0</td>\n",
       "      <td>53.730</td>\n",
       "      <td>BICARBONATADA SODICA</td>\n",
       "    </tr>\n",
       "    <tr>\n",
       "      <th>4</th>\n",
       "      <td>Durango</td>\n",
       "      <td>Villa Montemorelos</td>\n",
       "      <td>-104.48167</td>\n",
       "      <td>23.99177</td>\n",
       "      <td>63.0</td>\n",
       "      <td>2017-08-08</td>\n",
       "      <td>8.500</td>\n",
       "      <td>557.5</td>\n",
       "      <td>23.5</td>\n",
       "      <td>1.20</td>\n",
       "      <td>31.6805</td>\n",
       "      <td>6.7350</td>\n",
       "      <td>NaN</td>\n",
       "      <td>32.8330</td>\n",
       "      <td>6.5825</td>\n",
       "      <td>4.40</td>\n",
       "      <td>4.680</td>\n",
       "      <td>0.0</td>\n",
       "      <td>206.5</td>\n",
       "      <td>206.5</td>\n",
       "      <td>60.245</td>\n",
       "      <td>BICARBONATADA CALCICA Y/O MAGNESICA</td>\n",
       "    </tr>\n",
       "  </tbody>\n",
       "</table>\n",
       "</div>"
      ],
      "text/plain": [
       "  Municipio                  Localidad Coordenadas Unnamed: 3  Muestra  \\\n",
       "0       NaN                        NaN    Longitud    Latitud      NaN   \n",
       "1   Durango                   El Nayar  -104.69545   23.96292     60.0   \n",
       "2   Durango  Sebastián Lerdo de Tejada  -104.64026   23.95718     61.0   \n",
       "3   Durango             Felipe Ángeles  -104.55661   23.93505     62.0   \n",
       "4   Durango         Villa Montemorelos  -104.48167   23.99177     63.0   \n",
       "\n",
       "  FECHA DE MUESTREO      pH  Conductividad (μs/cm)  As (μg/L)  Flúor (mg/L)  \\\n",
       "0                NaN    NaN                    NaN        NaN           NaN   \n",
       "1         2017-08-08  8.140                  337.0       61.5          3.15   \n",
       "2         2017-08-08  8.110                  406.0       38.5          2.60   \n",
       "3         2017-08-08  8.375                  384.1       26.5          1.40   \n",
       "4         2017-08-08  8.500                  557.5       23.5          1.20   \n",
       "\n",
       "   Na+ (mg/L)  K+    (mg/L) Fe+ (mg/L)  Ca+ (mg/L)  Mg+ (mg/L)  NO3- (mg/L)  \\\n",
       "0         NaN           NaN        NaN         NaN         NaN          NaN   \n",
       "1     40.9220        1.4075      0.007     15.0015      0.2675         3.25   \n",
       "2     45.8850        0.6100        NaN     20.1530      0.0645         2.10   \n",
       "3     38.5360        6.3665        NaN     21.8090      1.1890         1.35   \n",
       "4     31.6805        6.7350        NaN     32.8330      6.5825         4.40   \n",
       "\n",
       "   Cl- (mg/L)   CO3-2 (mg/L)  HCO3- (mg/L)  \\\n",
       "0         NaN            NaN           NaN   \n",
       "1       4.140            0.0          97.0   \n",
       "2       2.040            0.0         122.0   \n",
       "3       2.325            0.0         140.0   \n",
       "4       4.680            0.0         206.5   \n",
       "\n",
       "   Alcalinidad total                (mg CaCO3/L)     SO4  \\\n",
       "0                                            NaN     NaN   \n",
       "1                                           97.0  70.615   \n",
       "2                                          122.0  79.445   \n",
       "3                                          140.0  53.730   \n",
       "4                                          206.5  60.245   \n",
       "\n",
       "                          Tipo de Agua  \n",
       "0                                  NaN  \n",
       "1                 BICARBONATADA SODICA  \n",
       "2                 BICARBONATADA SODICA  \n",
       "3                 BICARBONATADA SODICA  \n",
       "4  BICARBONATADA CALCICA Y/O MAGNESICA  "
      ]
     },
     "execution_count": 3,
     "metadata": {},
     "output_type": "execute_result"
    }
   ],
   "source": [
    "# Initial state of the dataframe\n",
    "print(df.shape)\n",
    "df.head()"
   ]
  },
  {
   "cell_type": "code",
   "execution_count": 4,
   "metadata": {},
   "outputs": [],
   "source": [
    "# I rename all columns with simpler English names\n",
    "df2 = df.rename(\n",
    "    {'Municipio':'municipality',\n",
    "     'Localidad':'town',\n",
    "     'Coordenadas':'longitude',\n",
    "     'Unnamed: 3':'latitude',\n",
    "     'Muestra':'id',\n",
    "     'FECHA DE MUESTREO ':'sampling_date',\n",
    "     'pH':'pH',\n",
    "     'Conductividad (μs/cm)':'conductivity',\n",
    "     'As (μg/L)':'As',\n",
    "     'Flúor (mg/L)':'F',\n",
    "     'Na+ (mg/L)':'Na',\n",
    "     'K+    (mg/L)':'K',\n",
    "     'Fe+ (mg/L)':'Fe',\n",
    "     'Ca+ (mg/L)':'Ca',\n",
    "     'Mg+ (mg/L)':'Mg',\n",
    "     'NO3- (mg/L)':'nitrate',\n",
    "     'Cl- (mg/L)':'Cl',\n",
    "     ' CO3-2 (mg/L)':'carbonate',\n",
    "     'HCO3- (mg/L)':'bicarbonate',\n",
    "     'Alcalinidad total                (mg CaCO3/L)':'total_alcalinity',\n",
    "     'SO4':'sulfate',\n",
    "     'Tipo de Agua':'water_type'}, axis='columns')\n",
    "\n",
    "# The first row is garbage\n",
    "df2 = df2.drop(index=0)\n",
    "\n",
    "# The id column shouldn't have any predictive power\n",
    "df2 = df2.drop(columns='id')\n",
    "\n",
    "# The column for iron (Fe) is the only one with null values, and has 128/146. \n",
    "# Probably not worth fixing, so I'll drop it.\n",
    "df2 = df2.drop(columns='Fe')\n",
    "\n",
    "# I assume that the sampling date is not important.\n",
    "df2 = df2.drop(columns='sampling_date')\n",
    "\n",
    "# I'm only interested in variables that are likely to generalize to \n",
    "# other datasets. Though there may be some extra predictive power in the\n",
    "# locations of these samples, that seems specific to this dataset.\n",
    "# I will drop geographic variables.\n",
    "\n",
    "df2 = df2.drop(columns=['longitude','latitude','municipality','town'])\n",
    "\n",
    "# I'll also reorder the columns a bit\n",
    "df2 = df2[['As', # Dependent variable first\n",
    " 'pH',\n",
    " 'conductivity',\n",
    " 'F',\n",
    " 'Na',\n",
    " 'K',\n",
    " 'Ca',\n",
    " 'Mg',\n",
    " 'nitrate',\n",
    " 'Cl',\n",
    " 'carbonate',\n",
    " 'bicarbonate',\n",
    " 'total_alcalinity',\n",
    " 'sulfate',\n",
    " 'water_type' # Categorical feature last\n",
    "]]"
   ]
  },
  {
   "cell_type": "code",
   "execution_count": 7,
   "metadata": {},
   "outputs": [
    {
     "name": "stdout",
     "output_type": "stream",
     "text": [
      "(145, 15)\n"
     ]
    },
    {
     "data": {
      "text/html": [
       "<div>\n",
       "<style scoped>\n",
       "    .dataframe tbody tr th:only-of-type {\n",
       "        vertical-align: middle;\n",
       "    }\n",
       "\n",
       "    .dataframe tbody tr th {\n",
       "        vertical-align: top;\n",
       "    }\n",
       "\n",
       "    .dataframe thead th {\n",
       "        text-align: right;\n",
       "    }\n",
       "</style>\n",
       "<table border=\"1\" class=\"dataframe\">\n",
       "  <thead>\n",
       "    <tr style=\"text-align: right;\">\n",
       "      <th></th>\n",
       "      <th>As</th>\n",
       "      <th>pH</th>\n",
       "      <th>conductivity</th>\n",
       "      <th>F</th>\n",
       "      <th>Na</th>\n",
       "      <th>K</th>\n",
       "      <th>Ca</th>\n",
       "      <th>Mg</th>\n",
       "      <th>nitrate</th>\n",
       "      <th>Cl</th>\n",
       "      <th>carbonate</th>\n",
       "      <th>bicarbonate</th>\n",
       "      <th>total_alcalinity</th>\n",
       "      <th>sulfate</th>\n",
       "      <th>water_type</th>\n",
       "    </tr>\n",
       "  </thead>\n",
       "  <tbody>\n",
       "    <tr>\n",
       "      <th>1</th>\n",
       "      <td>61.5</td>\n",
       "      <td>8.140</td>\n",
       "      <td>337.0</td>\n",
       "      <td>3.15</td>\n",
       "      <td>40.9220</td>\n",
       "      <td>1.4075</td>\n",
       "      <td>15.0015</td>\n",
       "      <td>0.2675</td>\n",
       "      <td>3.25</td>\n",
       "      <td>4.140</td>\n",
       "      <td>0.0</td>\n",
       "      <td>97.0</td>\n",
       "      <td>97.0</td>\n",
       "      <td>70.615</td>\n",
       "      <td>BICARBONATADA SODICA</td>\n",
       "    </tr>\n",
       "    <tr>\n",
       "      <th>2</th>\n",
       "      <td>38.5</td>\n",
       "      <td>8.110</td>\n",
       "      <td>406.0</td>\n",
       "      <td>2.60</td>\n",
       "      <td>45.8850</td>\n",
       "      <td>0.6100</td>\n",
       "      <td>20.1530</td>\n",
       "      <td>0.0645</td>\n",
       "      <td>2.10</td>\n",
       "      <td>2.040</td>\n",
       "      <td>0.0</td>\n",
       "      <td>122.0</td>\n",
       "      <td>122.0</td>\n",
       "      <td>79.445</td>\n",
       "      <td>BICARBONATADA SODICA</td>\n",
       "    </tr>\n",
       "    <tr>\n",
       "      <th>3</th>\n",
       "      <td>26.5</td>\n",
       "      <td>8.375</td>\n",
       "      <td>384.1</td>\n",
       "      <td>1.40</td>\n",
       "      <td>38.5360</td>\n",
       "      <td>6.3665</td>\n",
       "      <td>21.8090</td>\n",
       "      <td>1.1890</td>\n",
       "      <td>1.35</td>\n",
       "      <td>2.325</td>\n",
       "      <td>0.0</td>\n",
       "      <td>140.0</td>\n",
       "      <td>140.0</td>\n",
       "      <td>53.730</td>\n",
       "      <td>BICARBONATADA SODICA</td>\n",
       "    </tr>\n",
       "    <tr>\n",
       "      <th>4</th>\n",
       "      <td>23.5</td>\n",
       "      <td>8.500</td>\n",
       "      <td>557.5</td>\n",
       "      <td>1.20</td>\n",
       "      <td>31.6805</td>\n",
       "      <td>6.7350</td>\n",
       "      <td>32.8330</td>\n",
       "      <td>6.5825</td>\n",
       "      <td>4.40</td>\n",
       "      <td>4.680</td>\n",
       "      <td>0.0</td>\n",
       "      <td>206.5</td>\n",
       "      <td>206.5</td>\n",
       "      <td>60.245</td>\n",
       "      <td>BICARBONATADA CALCICA Y/O MAGNESICA</td>\n",
       "    </tr>\n",
       "    <tr>\n",
       "      <th>5</th>\n",
       "      <td>97.5</td>\n",
       "      <td>8.330</td>\n",
       "      <td>326.1</td>\n",
       "      <td>5.95</td>\n",
       "      <td>45.6745</td>\n",
       "      <td>1.6525</td>\n",
       "      <td>8.5190</td>\n",
       "      <td>0.2100</td>\n",
       "      <td>0.52</td>\n",
       "      <td>5.390</td>\n",
       "      <td>0.0</td>\n",
       "      <td>83.0</td>\n",
       "      <td>83.0</td>\n",
       "      <td>59.880</td>\n",
       "      <td>BICARBONATADA SODICA</td>\n",
       "    </tr>\n",
       "  </tbody>\n",
       "</table>\n",
       "</div>"
      ],
      "text/plain": [
       "     As     pH  conductivity     F       Na       K       Ca      Mg  nitrate  \\\n",
       "1  61.5  8.140         337.0  3.15  40.9220  1.4075  15.0015  0.2675     3.25   \n",
       "2  38.5  8.110         406.0  2.60  45.8850  0.6100  20.1530  0.0645     2.10   \n",
       "3  26.5  8.375         384.1  1.40  38.5360  6.3665  21.8090  1.1890     1.35   \n",
       "4  23.5  8.500         557.5  1.20  31.6805  6.7350  32.8330  6.5825     4.40   \n",
       "5  97.5  8.330         326.1  5.95  45.6745  1.6525   8.5190  0.2100     0.52   \n",
       "\n",
       "      Cl  carbonate  bicarbonate  total_alcalinity  sulfate  \\\n",
       "1  4.140        0.0         97.0              97.0   70.615   \n",
       "2  2.040        0.0        122.0             122.0   79.445   \n",
       "3  2.325        0.0        140.0             140.0   53.730   \n",
       "4  4.680        0.0        206.5             206.5   60.245   \n",
       "5  5.390        0.0         83.0              83.0   59.880   \n",
       "\n",
       "                            water_type  \n",
       "1                 BICARBONATADA SODICA  \n",
       "2                 BICARBONATADA SODICA  \n",
       "3                 BICARBONATADA SODICA  \n",
       "4  BICARBONATADA CALCICA Y/O MAGNESICA  \n",
       "5                 BICARBONATADA SODICA  "
      ]
     },
     "execution_count": 7,
     "metadata": {},
     "output_type": "execute_result"
    }
   ],
   "source": [
    "# Brief look at the clean dataframe\n",
    "print(df2.shape)\n",
    "df2.head()"
   ]
  },
  {
   "cell_type": "markdown",
   "metadata": {},
   "source": [
    "## Train/test sets\n"
   ]
  },
  {
   "cell_type": "code",
   "execution_count": 8,
   "metadata": {},
   "outputs": [
    {
     "data": {
      "text/plain": [
       "((130, 14), (15, 14), (130,), (15,))"
      ]
     },
     "execution_count": 8,
     "metadata": {},
     "output_type": "execute_result"
    }
   ],
   "source": [
    "X = df2.drop(columns='As')\n",
    "y = df2['As']\n",
    "X_train, X_test, y_train, y_test = train_test_split(\n",
    "    X, y, test_size=0.10, random_state=42)\n",
    "\n",
    "# Verify all shapes\n",
    "X_train.shape, X_test.shape, y_train.shape, y_test.shape"
   ]
  },
  {
   "cell_type": "markdown",
   "metadata": {},
   "source": [
    "I'll store `X_test` and `y_test` for later, and carry out all further training and validation with the other datasets only."
   ]
  },
  {
   "cell_type": "markdown",
   "metadata": {},
   "source": [
    "## Data Exploration\n",
    "Let's take a quick look at what Arsenic levels are present in our training data, and whether we need to worry much about outliers."
   ]
  },
  {
   "cell_type": "code",
   "execution_count": 98,
   "metadata": {},
   "outputs": [
    {
     "data": {
      "image/png": "[encoded data removed]",
      "text/plain": [
       "<Figure size 720x360 with 1 Axes>"
      ]
     },
     "metadata": {},
     "output_type": "display_data"
    }
   ],
   "source": [
    "fig, ax = plt.subplots(figsize=(10,5))\n",
    "ax.hist(y_train, bins=np.linspace(0,300,100))\n",
    "ax.set_xlabel('Arsenic concentration (µg/L)', fontsize=14)\n",
    "ax.set_ylabel('Number of samples with this value', fontsize=14)\n",
    "plt.axvline(x=35, color='r', linestyle='--', label='Mean');\n",
    "plt.legend();\n",
    "plt.title('Histogram: Arsenic in the training data', fontsize=16);"
   ]
  },
  {
   "cell_type": "code",
   "execution_count": 10,
   "metadata": {},
   "outputs": [
    {
     "data": {
      "image/png": "[encoded data removed]",
      "text/plain": [
       "<Figure size 2520x180 with 14 Axes>"
      ]
     },
     "metadata": {},
     "output_type": "display_data"
    }
   ],
   "source": [
    "sns.set(style=\"ticks\", color_codes=True)\n",
    "x_vars = X_train.columns\n",
    "sns.pairplot(data=df2, y_vars=['As'], x_vars=x_vars)\n",
    "plt.show()"
   ]
  },
  {
   "cell_type": "markdown",
   "metadata": {},
   "source": [
    "Looks like there's a few outliers in both X and y, so I'll use RobustScaler to scale all my data.  As an interesting side-note, it looks as if arsenic concentration has a log-normal distribution."
   ]
  },
  {
   "cell_type": "code",
   "execution_count": 99,
   "metadata": {},
   "outputs": [
    {
     "data": {
      "image/png": "[encoded data removed]",
      "text/plain": [
       "<Figure size 720x360 with 1 Axes>"
      ]
     },
     "metadata": {},
     "output_type": "display_data"
    }
   ],
   "source": [
    "df3 = df2\n",
    "df3['ln_As'] = np.log(df3['As'])\n",
    "\n",
    "fig, ax = plt.subplots(figsize=(10,5))\n",
    "ax.hist(df3['As'], bins=np.logspace(0,3,100))\n",
    "ax.set_xlabel('Arsenic concentration (µg/L)', fontsize=14)\n",
    "ax.set_ylabel('Number of samples with this value', fontsize=14)\n",
    "ax.set_xscale('log')\n",
    "plt.axvline(x=35, color='r', linestyle='--', label='Mean');\n",
    "plt.legend();\n",
    "plt.title('Arsenic concentration has a log-normal distribution', fontsize=16);"
   ]
  },
  {
   "cell_type": "markdown",
   "metadata": {},
   "source": [
    "# Baseline Model"
   ]
  },
  {
   "cell_type": "markdown",
   "metadata": {},
   "source": [
    "I'll start with the simplest possible model: assuming that all wells have an arsenic concentration equal to the mean of the training set.  This will provide a baseline score that I can use to judge more complex models."
   ]
  },
  {
   "cell_type": "code",
   "execution_count": 11,
   "metadata": {},
   "outputs": [],
   "source": [
    "# Because I want to keep track of the results from several models, \n",
    "# I'll create a dataframe to track them.\n",
    "scorecard = pd.DataFrame(columns = ['Model', 'RMSE','R^2'])"
   ]
  },
  {
   "cell_type": "code",
   "execution_count": 12,
   "metadata": {},
   "outputs": [
    {
     "data": {
      "text/plain": [
       "36.05243022607692"
      ]
     },
     "execution_count": 12,
     "metadata": {},
     "output_type": "execute_result"
    }
   ],
   "source": [
    "# And the mean value is..\n",
    "np.mean(y_train)"
   ]
  },
  {
   "cell_type": "code",
   "execution_count": 13,
   "metadata": {},
   "outputs": [
    {
     "data": {
      "text/html": [
       "<div>\n",
       "<style scoped>\n",
       "    .dataframe tbody tr th:only-of-type {\n",
       "        vertical-align: middle;\n",
       "    }\n",
       "\n",
       "    .dataframe tbody tr th {\n",
       "        vertical-align: top;\n",
       "    }\n",
       "\n",
       "    .dataframe thead th {\n",
       "        text-align: right;\n",
       "    }\n",
       "</style>\n",
       "<table border=\"1\" class=\"dataframe\">\n",
       "  <thead>\n",
       "    <tr style=\"text-align: right;\">\n",
       "      <th></th>\n",
       "      <th>Model</th>\n",
       "      <th>RMSE</th>\n",
       "      <th>R^2</th>\n",
       "    </tr>\n",
       "  </thead>\n",
       "  <tbody>\n",
       "    <tr>\n",
       "      <th>0</th>\n",
       "      <td>Mean Everywhere</td>\n",
       "      <td>40.286292</td>\n",
       "      <td>0.0</td>\n",
       "    </tr>\n",
       "  </tbody>\n",
       "</table>\n",
       "</div>"
      ],
      "text/plain": [
       "             Model       RMSE  R^2\n",
       "0  Mean Everywhere  40.286292  0.0"
      ]
     },
     "execution_count": 13,
     "metadata": {},
     "output_type": "execute_result"
    }
   ],
   "source": [
    "y_pred = [np.mean(y_train)] * len(y_train)\n",
    "RMSE = np.sqrt(mean_squared_error(y_train, y_pred))\n",
    "R2 = r2_score(y_train, y_pred)\n",
    "scorecard = scorecard.append({'Model':'Mean Everywhere', 'RMSE':RMSE, 'R^2':R2},\n",
    "                ignore_index=True)\n",
    "scorecard"
   ]
  },
  {
   "cell_type": "markdown",
   "metadata": {},
   "source": [
    "# Linear Regression\n",
    "Start simple."
   ]
  },
  {
   "cell_type": "code",
   "execution_count": 14,
   "metadata": {},
   "outputs": [],
   "source": [
    "# One-hot encode the one categorical variable \n",
    "# (also in test dataset, lest we forget)\n",
    "X_train = pd.get_dummies(X_train)\n",
    "X_test = pd.get_dummies(X_test)"
   ]
  },
  {
   "cell_type": "code",
   "execution_count": 15,
   "metadata": {},
   "outputs": [
    {
     "name": "stdout",
     "output_type": "stream",
     "text": [
      "\n",
      "Mean RMSE in cross-validation:  40.18115199336001\n",
      "\n"
     ]
    }
   ],
   "source": [
    "# Create a pipeline to scale and regress\n",
    "pipe = make_pipeline(\n",
    "    RobustScaler(),  \n",
    "    LinearRegression())\n",
    "\n",
    "# Fit on the train set\n",
    "pipe.fit(X_train, y_train)\n",
    "y_pred = pipe.predict(X_train)\n",
    "\n",
    "# Fit on the train set, with grid search cross-validation\n",
    "gs = GridSearchCV(pipe, param_grid={}, cv=10, \n",
    "                  scoring='neg_mean_squared_error')\n",
    "\n",
    "gs.fit(X_train, y_train);\n",
    "validation_score = np.sqrt(-gs.best_score_)\n",
    "print()\n",
    "print('Mean RMSE in cross-validation: ', validation_score)\n",
    "print()"
   ]
  },
  {
   "cell_type": "code",
   "execution_count": 16,
   "metadata": {},
   "outputs": [
    {
     "data": {
      "text/html": [
       "<div>\n",
       "<style scoped>\n",
       "    .dataframe tbody tr th:only-of-type {\n",
       "        vertical-align: middle;\n",
       "    }\n",
       "\n",
       "    .dataframe tbody tr th {\n",
       "        vertical-align: top;\n",
       "    }\n",
       "\n",
       "    .dataframe thead th {\n",
       "        text-align: right;\n",
       "    }\n",
       "</style>\n",
       "<table border=\"1\" class=\"dataframe\">\n",
       "  <thead>\n",
       "    <tr style=\"text-align: right;\">\n",
       "      <th></th>\n",
       "      <th>Model</th>\n",
       "      <th>RMSE</th>\n",
       "      <th>R^2</th>\n",
       "    </tr>\n",
       "  </thead>\n",
       "  <tbody>\n",
       "    <tr>\n",
       "      <th>0</th>\n",
       "      <td>Mean Everywhere</td>\n",
       "      <td>40.286292</td>\n",
       "      <td>0.000000</td>\n",
       "    </tr>\n",
       "    <tr>\n",
       "      <th>1</th>\n",
       "      <td>Linear Regression</td>\n",
       "      <td>40.181152</td>\n",
       "      <td>0.413865</td>\n",
       "    </tr>\n",
       "  </tbody>\n",
       "</table>\n",
       "</div>"
      ],
      "text/plain": [
       "               Model       RMSE       R^2\n",
       "0    Mean Everywhere  40.286292  0.000000\n",
       "1  Linear Regression  40.181152  0.413865"
      ]
     },
     "execution_count": 16,
     "metadata": {},
     "output_type": "execute_result"
    }
   ],
   "source": [
    "# Score results\n",
    "y_pred = gs.predict(X_train)\n",
    "R2 = r2_score(y_train, y_pred)\n",
    "scorecard = scorecard.append({'Model':'Linear Regression', 'RMSE':validation_score, 'R^2':R2},\n",
    "                ignore_index=True)\n",
    "scorecard"
   ]
  },
  {
   "cell_type": "markdown",
   "metadata": {},
   "source": [
    "# Ridge Regression"
   ]
  },
  {
   "cell_type": "code",
   "execution_count": null,
   "metadata": {},
   "outputs": [],
   "source": [
    "%%time\n",
    "\n",
    "pipe = make_pipeline(\n",
    "    RobustScaler(),  \n",
    "    SelectKBest(f_regression), \n",
    "    Ridge())\n",
    "\n",
    "# I'll find the optimal number of features, and also try out several\n",
    "# values of alpha\n",
    "param_grid = {\n",
    "    'selectkbest__k': range(1, len(X_train.columns)), \n",
    "    'ridge__alpha': [0, 0.1, 1.0, 10., 100.]\n",
    "}\n",
    "\n",
    "# Fit on the train set, with grid search cross-validation\n",
    "gs = GridSearchCV(pipe, param_grid=param_grid, cv=10, \n",
    "                  scoring='neg_mean_squared_error')\n",
    "\n",
    "gs.fit(X_train, y_train)"
   ]
  },
  {
   "cell_type": "code",
   "execution_count": 18,
   "metadata": {},
   "outputs": [
    {
     "name": "stdout",
     "output_type": "stream",
     "text": [
      "\n",
      "Mean RMSE in cross-validation:  35.26583153352785\n"
     ]
    }
   ],
   "source": [
    "validation_score = np.sqrt(-gs.best_score_)\n",
    "print()\n",
    "print('Mean RMSE in cross-validation: ', validation_score)"
   ]
  },
  {
   "cell_type": "code",
   "execution_count": 19,
   "metadata": {},
   "outputs": [
    {
     "name": "stdout",
     "output_type": "stream",
     "text": [
      "Best parameters from cross-validation:\n",
      "ridge__alpha: 10.0\n",
      "selectkbest__k: 3\n",
      "\n",
      "Selected Features and regression coefficients:\n",
      "pH   11.62\n",
      "F    14.26\n",
      "K    20.44\n",
      "\n",
      "Features not selected:\n",
      "> conductivity\n",
      "> Na\n",
      "> Ca\n",
      "> Mg\n",
      "> nitrate\n",
      "> Cl\n",
      "> carbonate\n",
      "> bicarbonate\n",
      "> total_alcalinity\n",
      "> sulfate\n",
      "> water_type_BICARBONATADA CALCICA Y/O MAGNESICA\n",
      "> water_type_BICARBONATADA SODICA\n",
      "> water_type_CLORURADAS Y/O SULFATADAS SODICAS\n",
      "> water_type_SULFATADA Y/O CLORURADAS CALCICAS Y/O MAGNESICAS\n"
     ]
    }
   ],
   "source": [
    "# Which features were selected by SelectKBest?\n",
    "selected_mask = gs.best_estimator_.named_steps['selectkbest'].get_support()\n",
    "selected_names = X_train.columns[selected_mask]\n",
    "unselected_names = X_train.columns[~selected_mask]\n",
    "coefs = gs.best_estimator_.named_steps['ridge'].coef_\n",
    "\n",
    "print('Best parameters from cross-validation:')\n",
    "for key, value in gs.best_params_.items():\n",
    "    print(f'{key}: {value}')\n",
    "print()\n",
    "    \n",
    "print('Selected Features and regression coefficients:')\n",
    "for name, coef in zip(selected_names, coefs):\n",
    "\n",
    "    print(f'{name:5}{coef:.2f}')\n",
    "\n",
    "print()\n",
    "print('Features not selected:')\n",
    "for name in unselected_names:\n",
    "    print(f'> {name}')"
   ]
  },
  {
   "cell_type": "markdown",
   "metadata": {},
   "source": [
    "Looks like pH, F, and K are the most important features for predicting arsenic concentration.  There's some valuable insight right there."
   ]
  },
  {
   "cell_type": "code",
   "execution_count": 20,
   "metadata": {},
   "outputs": [
    {
     "data": {
      "text/html": [
       "<div>\n",
       "<style scoped>\n",
       "    .dataframe tbody tr th:only-of-type {\n",
       "        vertical-align: middle;\n",
       "    }\n",
       "\n",
       "    .dataframe tbody tr th {\n",
       "        vertical-align: top;\n",
       "    }\n",
       "\n",
       "    .dataframe thead th {\n",
       "        text-align: right;\n",
       "    }\n",
       "</style>\n",
       "<table border=\"1\" class=\"dataframe\">\n",
       "  <thead>\n",
       "    <tr style=\"text-align: right;\">\n",
       "      <th></th>\n",
       "      <th>Model</th>\n",
       "      <th>RMSE</th>\n",
       "      <th>R^2</th>\n",
       "    </tr>\n",
       "  </thead>\n",
       "  <tbody>\n",
       "    <tr>\n",
       "      <th>0</th>\n",
       "      <td>Mean Everywhere</td>\n",
       "      <td>40.286292</td>\n",
       "      <td>0.000000</td>\n",
       "    </tr>\n",
       "    <tr>\n",
       "      <th>1</th>\n",
       "      <td>Linear Regression</td>\n",
       "      <td>40.181152</td>\n",
       "      <td>0.413865</td>\n",
       "    </tr>\n",
       "    <tr>\n",
       "      <th>2</th>\n",
       "      <td>Ridge Regression</td>\n",
       "      <td>35.265832</td>\n",
       "      <td>0.325887</td>\n",
       "    </tr>\n",
       "  </tbody>\n",
       "</table>\n",
       "</div>"
      ],
      "text/plain": [
       "               Model       RMSE       R^2\n",
       "0    Mean Everywhere  40.286292  0.000000\n",
       "1  Linear Regression  40.181152  0.413865\n",
       "2   Ridge Regression  35.265832  0.325887"
      ]
     },
     "execution_count": 20,
     "metadata": {},
     "output_type": "execute_result"
    }
   ],
   "source": [
    "# Score results\n",
    "y_pred = gs.predict(X_train)\n",
    "R2 = r2_score(y_train, y_pred)\n",
    "scorecard = scorecard.append({'Model':'Ridge Regression', 'RMSE':validation_score, 'R^2':R2},\n",
    "                ignore_index=True)\n",
    "scorecard"
   ]
  },
  {
   "cell_type": "markdown",
   "metadata": {},
   "source": [
    "# Adding polynomial features"
   ]
  },
  {
   "cell_type": "code",
   "execution_count": 21,
   "metadata": {},
   "outputs": [
    {
     "name": "stdout",
     "output_type": "stream",
     "text": [
      "(130, 17) (130, 171)\n"
     ]
    }
   ],
   "source": [
    "from sklearn.preprocessing import PolynomialFeatures\n",
    "poly = PolynomialFeatures(degree=2)\n",
    "X_train_polynomial = poly.fit_transform(X_train)\n",
    "print(X_train.shape, X_train_polynomial.shape)"
   ]
  },
  {
   "cell_type": "code",
   "execution_count": null,
   "metadata": {},
   "outputs": [],
   "source": [
    "%%time\n",
    "\n",
    "pipe = make_pipeline(\n",
    "    RobustScaler(),  \n",
    "    SelectKBest(f_regression), \n",
    "    Ridge())\n",
    "\n",
    "param_grid = {\n",
    "    'selectkbest__k': range(1, 10), \n",
    "    'ridge__alpha': [0, 0.1, 1.0, 10.]\n",
    "}\n",
    "\n",
    "# Fit on the train set, with grid search cross-validation\n",
    "gs = GridSearchCV(pipe, param_grid=param_grid, cv=10, \n",
    "                  scoring='neg_mean_squared_error')\n",
    "\n",
    "gs.fit(X_train_polynomial, y_train)"
   ]
  },
  {
   "cell_type": "code",
   "execution_count": 23,
   "metadata": {},
   "outputs": [
    {
     "name": "stdout",
     "output_type": "stream",
     "text": [
      "\n",
      "Mean RMSE in cross-validation:  34.83497412458334\n"
     ]
    }
   ],
   "source": [
    "validation_score = np.sqrt(-gs.best_score_)\n",
    "print()\n",
    "print('Mean RMSE in cross-validation: ', validation_score)"
   ]
  },
  {
   "cell_type": "code",
   "execution_count": 24,
   "metadata": {},
   "outputs": [
    {
     "name": "stdout",
     "output_type": "stream",
     "text": [
      "Best parameters from cross-validation:\n",
      "ridge__alpha: 1.0\n",
      "selectkbest__k: 7\n",
      "\n",
      "Selected Features and regression coefficients:\n",
      "K                   -44.68\n",
      "pH K                16.85\n",
      "conductivity F      8.36\n",
      "F K                 4.10\n",
      "K^2                 29.12\n",
      "K bicarbonate       0.20\n",
      "K total_alcalinity  -4.90\n",
      "\n",
      "Features not selected:\n",
      "> 1\n",
      "> pH\n",
      "> conductivity\n",
      "> F\n",
      "> Na\n",
      "> Ca\n",
      "> Mg\n",
      "> nitrate\n",
      "> Cl\n",
      "> carbonate\n",
      "> bicarbonate\n",
      "> total_alcalinity\n",
      "> sulfate\n",
      "> water_type_BICARBONATADA CALCICA Y/O MAGNESICA\n",
      "> water_type_BICARBONATADA SODICA\n",
      "> water_type_CLORURADAS Y/O SULFATADAS SODICAS\n",
      "> water_type_SULFATADA Y/O CLORURADAS CALCICAS Y/O MAGNESICAS\n",
      "> pH^2\n",
      "> pH conductivity\n",
      "> pH F\n",
      "> pH Na\n",
      "> pH Ca\n",
      "> pH Mg\n",
      "> pH nitrate\n",
      "> pH Cl\n",
      "> pH carbonate\n",
      "> pH bicarbonate\n",
      "> pH total_alcalinity\n",
      "> pH sulfate\n",
      "> pH water_type_BICARBONATADA CALCICA Y/O MAGNESICA\n",
      "> pH water_type_BICARBONATADA SODICA\n",
      "> pH water_type_CLORURADAS Y/O SULFATADAS SODICAS\n",
      "> pH water_type_SULFATADA Y/O CLORURADAS CALCICAS Y/O MAGNESICAS\n",
      "> conductivity^2\n",
      "> conductivity Na\n",
      "> conductivity K\n",
      "> conductivity Ca\n",
      "> conductivity Mg\n",
      "> conductivity nitrate\n",
      "> conductivity Cl\n",
      "> conductivity carbonate\n",
      "> conductivity bicarbonate\n",
      "> conductivity total_alcalinity\n",
      "> conductivity sulfate\n",
      "> conductivity water_type_BICARBONATADA CALCICA Y/O MAGNESICA\n",
      "> conductivity water_type_BICARBONATADA SODICA\n",
      "> conductivity water_type_CLORURADAS Y/O SULFATADAS SODICAS\n",
      "> conductivity water_type_SULFATADA Y/O CLORURADAS CALCICAS Y/O MAGNESICAS\n",
      "> F^2\n",
      "> F Na\n",
      "> F Ca\n",
      "> F Mg\n",
      "> F nitrate\n",
      "> F Cl\n",
      "> F carbonate\n",
      "> F bicarbonate\n",
      "> F total_alcalinity\n",
      "> F sulfate\n",
      "> F water_type_BICARBONATADA CALCICA Y/O MAGNESICA\n",
      "> F water_type_BICARBONATADA SODICA\n",
      "> F water_type_CLORURADAS Y/O SULFATADAS SODICAS\n",
      "> F water_type_SULFATADA Y/O CLORURADAS CALCICAS Y/O MAGNESICAS\n",
      "> Na^2\n",
      "> Na K\n",
      "> Na Ca\n",
      "> Na Mg\n",
      "> Na nitrate\n",
      "> Na Cl\n",
      "> Na carbonate\n",
      "> Na bicarbonate\n",
      "> Na total_alcalinity\n",
      "> Na sulfate\n",
      "> Na water_type_BICARBONATADA CALCICA Y/O MAGNESICA\n",
      "> Na water_type_BICARBONATADA SODICA\n",
      "> Na water_type_CLORURADAS Y/O SULFATADAS SODICAS\n",
      "> Na water_type_SULFATADA Y/O CLORURADAS CALCICAS Y/O MAGNESICAS\n",
      "> K Ca\n",
      "> K Mg\n",
      "> K nitrate\n",
      "> K Cl\n",
      "> K carbonate\n",
      "> K sulfate\n",
      "> K water_type_BICARBONATADA CALCICA Y/O MAGNESICA\n",
      "> K water_type_BICARBONATADA SODICA\n",
      "> K water_type_CLORURADAS Y/O SULFATADAS SODICAS\n",
      "> K water_type_SULFATADA Y/O CLORURADAS CALCICAS Y/O MAGNESICAS\n",
      "> Ca^2\n",
      "> Ca Mg\n",
      "> Ca nitrate\n",
      "> Ca Cl\n",
      "> Ca carbonate\n",
      "> Ca bicarbonate\n",
      "> Ca total_alcalinity\n",
      "> Ca sulfate\n",
      "> Ca water_type_BICARBONATADA CALCICA Y/O MAGNESICA\n",
      "> Ca water_type_BICARBONATADA SODICA\n",
      "> Ca water_type_CLORURADAS Y/O SULFATADAS SODICAS\n",
      "> Ca water_type_SULFATADA Y/O CLORURADAS CALCICAS Y/O MAGNESICAS\n",
      "> Mg^2\n",
      "> Mg nitrate\n",
      "> Mg Cl\n",
      "> Mg carbonate\n",
      "> Mg bicarbonate\n",
      "> Mg total_alcalinity\n",
      "> Mg sulfate\n",
      "> Mg water_type_BICARBONATADA CALCICA Y/O MAGNESICA\n",
      "> Mg water_type_BICARBONATADA SODICA\n",
      "> Mg water_type_CLORURADAS Y/O SULFATADAS SODICAS\n",
      "> Mg water_type_SULFATADA Y/O CLORURADAS CALCICAS Y/O MAGNESICAS\n",
      "> nitrate^2\n",
      "> nitrate Cl\n",
      "> nitrate carbonate\n",
      "> nitrate bicarbonate\n",
      "> nitrate total_alcalinity\n",
      "> nitrate sulfate\n",
      "> nitrate water_type_BICARBONATADA CALCICA Y/O MAGNESICA\n",
      "> nitrate water_type_BICARBONATADA SODICA\n",
      "> nitrate water_type_CLORURADAS Y/O SULFATADAS SODICAS\n",
      "> nitrate water_type_SULFATADA Y/O CLORURADAS CALCICAS Y/O MAGNESICAS\n",
      "> Cl^2\n",
      "> Cl carbonate\n",
      "> Cl bicarbonate\n",
      "> Cl total_alcalinity\n",
      "> Cl sulfate\n",
      "> Cl water_type_BICARBONATADA CALCICA Y/O MAGNESICA\n",
      "> Cl water_type_BICARBONATADA SODICA\n",
      "> Cl water_type_CLORURADAS Y/O SULFATADAS SODICAS\n",
      "> Cl water_type_SULFATADA Y/O CLORURADAS CALCICAS Y/O MAGNESICAS\n",
      "> carbonate^2\n",
      "> carbonate bicarbonate\n",
      "> carbonate total_alcalinity\n",
      "> carbonate sulfate\n",
      "> carbonate water_type_BICARBONATADA CALCICA Y/O MAGNESICA\n",
      "> carbonate water_type_BICARBONATADA SODICA\n",
      "> carbonate water_type_CLORURADAS Y/O SULFATADAS SODICAS\n",
      "> carbonate water_type_SULFATADA Y/O CLORURADAS CALCICAS Y/O MAGNESICAS\n",
      "> bicarbonate^2\n",
      "> bicarbonate total_alcalinity\n",
      "> bicarbonate sulfate\n",
      "> bicarbonate water_type_BICARBONATADA CALCICA Y/O MAGNESICA\n",
      "> bicarbonate water_type_BICARBONATADA SODICA\n",
      "> bicarbonate water_type_CLORURADAS Y/O SULFATADAS SODICAS\n",
      "> bicarbonate water_type_SULFATADA Y/O CLORURADAS CALCICAS Y/O MAGNESICAS\n",
      "> total_alcalinity^2\n",
      "> total_alcalinity sulfate\n",
      "> total_alcalinity water_type_BICARBONATADA CALCICA Y/O MAGNESICA\n",
      "> total_alcalinity water_type_BICARBONATADA SODICA\n",
      "> total_alcalinity water_type_CLORURADAS Y/O SULFATADAS SODICAS\n",
      "> total_alcalinity water_type_SULFATADA Y/O CLORURADAS CALCICAS Y/O MAGNESICAS\n",
      "> sulfate^2\n",
      "> sulfate water_type_BICARBONATADA CALCICA Y/O MAGNESICA\n",
      "> sulfate water_type_BICARBONATADA SODICA\n",
      "> sulfate water_type_CLORURADAS Y/O SULFATADAS SODICAS\n",
      "> sulfate water_type_SULFATADA Y/O CLORURADAS CALCICAS Y/O MAGNESICAS\n",
      "> water_type_BICARBONATADA CALCICA Y/O MAGNESICA^2\n",
      "> water_type_BICARBONATADA CALCICA Y/O MAGNESICA water_type_BICARBONATADA SODICA\n",
      "> water_type_BICARBONATADA CALCICA Y/O MAGNESICA water_type_CLORURADAS Y/O SULFATADAS SODICAS\n",
      "> water_type_BICARBONATADA CALCICA Y/O MAGNESICA water_type_SULFATADA Y/O CLORURADAS CALCICAS Y/O MAGNESICAS\n",
      "> water_type_BICARBONATADA SODICA^2\n",
      "> water_type_BICARBONATADA SODICA water_type_CLORURADAS Y/O SULFATADAS SODICAS\n",
      "> water_type_BICARBONATADA SODICA water_type_SULFATADA Y/O CLORURADAS CALCICAS Y/O MAGNESICAS\n",
      "> water_type_CLORURADAS Y/O SULFATADAS SODICAS^2\n",
      "> water_type_CLORURADAS Y/O SULFATADAS SODICAS water_type_SULFATADA Y/O CLORURADAS CALCICAS Y/O MAGNESICAS\n",
      "> water_type_SULFATADA Y/O CLORURADAS CALCICAS Y/O MAGNESICAS^2\n"
     ]
    }
   ],
   "source": [
    "# Which features were selected by SelectKBest?\n",
    "all_names = np.array(poly.get_feature_names(X_train.columns))\n",
    "selected_mask = gs.best_estimator_.named_steps['selectkbest'].get_support()\n",
    "selected_names = all_names[selected_mask]\n",
    "unselected_names = all_names[~selected_mask]\n",
    "coefs = gs.best_estimator_.named_steps['ridge'].coef_\n",
    "\n",
    "print('Best parameters from cross-validation:')\n",
    "for key, value in gs.best_params_.items():\n",
    "    print(f'{key}: {value}')\n",
    "print()\n",
    "    \n",
    "print('Selected Features and regression coefficients:')\n",
    "for name, coef in zip(selected_names, coefs):\n",
    "    print(f'{name:20}{coef:.2f}')\n",
    "\n",
    "print()\n",
    "print('Features not selected:')\n",
    "for name in unselected_names:\n",
    "    print(f'> {name}')"
   ]
  },
  {
   "cell_type": "markdown",
   "metadata": {},
   "source": [
    "Well, look at that.  We already knew that K (potassium) was important, but now that I've tested polynomial features it seems like K is way more important than we thought.  It's the most significant feature on its own, it shows up as K^2, and the other features seem to matter only inasmuch as they interact with K (though there's also the interaction between F and conductivity).  "
   ]
  },
  {
   "cell_type": "code",
   "execution_count": 31,
   "metadata": {},
   "outputs": [
    {
     "data": {
      "text/html": [
       "<div>\n",
       "<style scoped>\n",
       "    .dataframe tbody tr th:only-of-type {\n",
       "        vertical-align: middle;\n",
       "    }\n",
       "\n",
       "    .dataframe tbody tr th {\n",
       "        vertical-align: top;\n",
       "    }\n",
       "\n",
       "    .dataframe thead th {\n",
       "        text-align: right;\n",
       "    }\n",
       "</style>\n",
       "<table border=\"1\" class=\"dataframe\">\n",
       "  <thead>\n",
       "    <tr style=\"text-align: right;\">\n",
       "      <th></th>\n",
       "      <th>Model</th>\n",
       "      <th>RMSE</th>\n",
       "      <th>R^2</th>\n",
       "    </tr>\n",
       "  </thead>\n",
       "  <tbody>\n",
       "    <tr>\n",
       "      <th>0</th>\n",
       "      <td>Mean Everywhere</td>\n",
       "      <td>40.286292</td>\n",
       "      <td>0.000000</td>\n",
       "    </tr>\n",
       "    <tr>\n",
       "      <th>1</th>\n",
       "      <td>Linear Regression</td>\n",
       "      <td>40.181152</td>\n",
       "      <td>0.413865</td>\n",
       "    </tr>\n",
       "    <tr>\n",
       "      <th>2</th>\n",
       "      <td>Ridge Regression</td>\n",
       "      <td>35.265832</td>\n",
       "      <td>0.325887</td>\n",
       "    </tr>\n",
       "    <tr>\n",
       "      <th>3</th>\n",
       "      <td>Ridge Regression, Polynomial Features</td>\n",
       "      <td>34.834974</td>\n",
       "      <td>0.431645</td>\n",
       "    </tr>\n",
       "  </tbody>\n",
       "</table>\n",
       "</div>"
      ],
      "text/plain": [
       "                                   Model       RMSE       R^2\n",
       "0                        Mean Everywhere  40.286292  0.000000\n",
       "1                      Linear Regression  40.181152  0.413865\n",
       "2                       Ridge Regression  35.265832  0.325887\n",
       "3  Ridge Regression, Polynomial Features  34.834974  0.431645"
      ]
     },
     "execution_count": 31,
     "metadata": {},
     "output_type": "execute_result"
    }
   ],
   "source": [
    "# Score results\n",
    "y_pred = gs.predict(X_train_polynomial)\n",
    "R2 = r2_score(y_train, y_pred)\n",
    "scorecard = scorecard.append({'Model':'Ridge Regression, Polynomial Features', 'RMSE':validation_score, 'R^2':R2},\n",
    "                ignore_index=True)\n",
    "scorecard"
   ]
  },
  {
   "cell_type": "markdown",
   "metadata": {},
   "source": [
    "# Testing on test data\n",
    "Alright, it seems like Ridge Regression with Polynomial Features wins.  Let's see how well it performs on the test data."
   ]
  },
  {
   "cell_type": "code",
   "execution_count": 47,
   "metadata": {},
   "outputs": [
    {
     "data": {
      "text/plain": [
       "Index(['pH', 'conductivity', 'F', 'Na', 'K', 'Ca', 'Mg', 'nitrate', 'Cl',\n",
       "       'carbonate', 'bicarbonate', 'total_alcalinity', 'sulfate',\n",
       "       'water_type_BICARBONATADA CALCICA Y/O MAGNESICA',\n",
       "       'water_type_BICARBONATADA SODICA',\n",
       "       'water_type_CLORURADAS Y/O SULFATADAS SODICAS',\n",
       "       'water_type_SULFATADA Y/O CLORURADAS CALCICAS Y/O MAGNESICAS'],\n",
       "      dtype='object')"
      ]
     },
     "execution_count": 47,
     "metadata": {},
     "output_type": "execute_result"
    }
   ],
   "source": [
    "# X_train and X_test have different columns, because the one-hot encoder\n",
    "# encountered a different set of options to encode.  Thus, I have to add \n",
    "# the missing column before running the polynomial feature generator\n",
    "X_train.columns"
   ]
  },
  {
   "cell_type": "code",
   "execution_count": 48,
   "metadata": {},
   "outputs": [
    {
     "data": {
      "text/plain": [
       "Index(['pH', 'conductivity', 'F', 'Na', 'K', 'Ca', 'Mg', 'nitrate', 'Cl',\n",
       "       'carbonate', 'bicarbonate', 'total_alcalinity', 'sulfate',\n",
       "       'water_type_BICARBONATADA CALCICA Y/O MAGNESICA',\n",
       "       'water_type_BICARBONATADA SODICA',\n",
       "       'water_type_SULFATADA Y/O CLORURADAS CALCICAS Y/O MAGNESICAS'],\n",
       "      dtype='object')"
      ]
     },
     "execution_count": 48,
     "metadata": {},
     "output_type": "execute_result"
    }
   ],
   "source": [
    "X_test.columns"
   ]
  },
  {
   "cell_type": "code",
   "execution_count": 51,
   "metadata": {},
   "outputs": [
    {
     "data": {
      "text/plain": [
       "Index(['pH', 'conductivity', 'F', 'Na', 'K', 'Ca', 'Mg', 'nitrate', 'Cl',\n",
       "       'carbonate', 'bicarbonate', 'total_alcalinity', 'sulfate',\n",
       "       'water_type_BICARBONATADA CALCICA Y/O MAGNESICA',\n",
       "       'water_type_BICARBONATADA SODICA',\n",
       "       'water_type_SULFATADA Y/O CLORURADAS CALCICAS Y/O MAGNESICAS',\n",
       "       'water_type_CLORURADAS Y/O SULFATADAS SODICAS'],\n",
       "      dtype='object')"
      ]
     },
     "execution_count": 51,
     "metadata": {},
     "output_type": "execute_result"
    }
   ],
   "source": [
    "# This column will get selected out anyway, so it's ok.\n",
    "# I just need it here so that PolynomialFeatures will generate the right\n",
    "# column names\n",
    "X_test['water_type_CLORURADAS Y/O SULFATADAS SODICAS']=0"
   ]
  },
  {
   "cell_type": "code",
   "execution_count": 54,
   "metadata": {},
   "outputs": [
    {
     "data": {
      "text/plain": [
       "((15, 171), (130, 171))"
      ]
     },
     "execution_count": 54,
     "metadata": {},
     "output_type": "execute_result"
    }
   ],
   "source": [
    "# Confirmed, they both have the same shape\n",
    "poly = PolynomialFeatures(degree=2)\n",
    "X_test_polynomial = poly.fit_transform(X_test)\n",
    "X_test_polynomial.shape, X_train_polynomial.shape"
   ]
  },
  {
   "cell_type": "code",
   "execution_count": 100,
   "metadata": {},
   "outputs": [
    {
     "name": "stdout",
     "output_type": "stream",
     "text": [
      "RMSE: 20.812209976076126\n",
      "R^2: -0.48578768514621995\n"
     ]
    }
   ],
   "source": [
    "# Same gs as used last time.\n",
    "y_pred = gs.predict(X_test_polynomial)\n",
    "RMSE = np.sqrt(mean_squared_error(y_test, y_pred))\n",
    "R2 = r2_score(y_test, y_pred)\n",
    "print(f'RMSE: {RMSE}')\n",
    "print(f'R^2: {R2}')"
   ]
  },
  {
   "cell_type": "markdown",
   "metadata": {},
   "source": [
    "The RMSE is within the range of what we expect. R^2 is negative, but I guess that happens with very small datasets like this one (15 test samples)."
   ]
  },
  {
   "cell_type": "code",
   "execution_count": null,
   "metadata": {},
   "outputs": [],
   "source": []
  }
 ],
 "metadata": {
  "kernelspec": {
   "display_name": "Python 3",
   "language": "python",
   "name": "python3"
  },
  "language_info": {
   "codemirror_mode": {
    "name": "ipython",
    "version": 3
   },
   "file_extension": ".py",
   "mimetype": "text/x-python",
   "name": "python",
   "nbconvert_exporter": "python",
   "pygments_lexer": "ipython3",
   "version": "3.6.7"
  }
 },
 "nbformat": 4,
 "nbformat_minor": 2
}
